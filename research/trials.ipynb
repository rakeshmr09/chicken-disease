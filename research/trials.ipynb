{
 "cells": [
  {
   "cell_type": "code",
   "execution_count": 1,
   "metadata": {},
   "outputs": [],
   "source": [
    "import numpy as np"
   ]
  },
  {
   "cell_type": "code",
   "execution_count": 5,
   "metadata": {},
   "outputs": [
    {
     "name": "stdout",
     "output_type": "stream",
     "text": [
      "arr_shape (4,)\n",
      "[[1]\n",
      " [2]\n",
      " [3]\n",
      " [4]]\n",
      "(4, 1)\n"
     ]
    }
   ],
   "source": [
    "# Original 1D array\n",
    "arr = np.array([1, 2, 3, 4])\n",
    "print('arr_shape',arr.shape)\n",
    "\n",
    "# Expand dimensions to convert it to a 2D array with shape (1, 4)\n",
    "expanded_arr = np.expand_dims(arr, axis=1)\n",
    "\n",
    "print(expanded_arr)\n",
    "print(expanded_arr.shape)  # Output: (1, 4)"
   ]
  }
 ],
 "metadata": {
  "kernelspec": {
   "display_name": "Python 3",
   "language": "python",
   "name": "python3"
  },
  "language_info": {
   "codemirror_mode": {
    "name": "ipython",
    "version": 3
   },
   "file_extension": ".py",
   "mimetype": "text/x-python",
   "name": "python",
   "nbconvert_exporter": "python",
   "pygments_lexer": "ipython3",
   "version": "3.10.0"
  }
 },
 "nbformat": 4,
 "nbformat_minor": 2
}
